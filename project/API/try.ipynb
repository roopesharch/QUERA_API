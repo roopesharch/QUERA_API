{
 "cells": [
  {
   "cell_type": "code",
   "execution_count": 2,
   "metadata": {},
   "outputs": [
    {
     "name": "stderr",
     "output_type": "stream",
     "text": [
      "/Users/roopesharch/opt/anaconda3/lib/python3.7/site-packages/ipykernel_launcher.py:37: DeprecationWarning: use options instead of chrome_options\n"
     ]
    },
    {
     "name": "stdout",
     "output_type": "stream",
     "text": [
      "\n",
      " Connection successfull\n",
      "\n",
      " Started the launch\n",
      "\n",
      " Launched\n",
      "\n",
      " Emial issued\n",
      "\n",
      " Password issued\n",
      "\n",
      " Credentials Submitted\n"
     ]
    }
   ],
   "source": [
    "from pyvirtualdisplay import Display\n",
    "from selenium import webdriver\n",
    "from selenium.webdriver.common.keys import Keys\n",
    "import pandas as pd\n",
    "import time\n",
    "from selenium.webdriver.common.action_chains import ActionChains\n",
    "from selenium.webdriver.common.by import By\n",
    "from selenium.webdriver.support.ui import WebDriverWait\n",
    "from selenium.webdriver.support import expected_conditions as EC\n",
    "import bs4\n",
    "import re\n",
    "import random\n",
    "import logging\n",
    "import logging.handlers\n",
    "import pickle\n",
    "import pyautogui\n",
    "import csv\n",
    "\n",
    "\n",
    "#%%%%%%%%%%%%%%%%%%%%%%%%%%%%%%%%%chromedriver path%%%%%%%%%%%%%%%%%%%%%%%%%%%%%%%%%\n",
    "driver_path=\"/Users/roopesharch/project/API/chromedriver\"\n",
    "time.sleep(random.randint(3,6))\n",
    "\n",
    "#%%%%%%%%%%%%%%%%%%%%%%%%%%%%%%%%%customize chrome options%%%%%%%%%%%%%%%%%%%%%%%%%%%%%%%%%\n",
    "chrome_option = webdriver.ChromeOptions()\n",
    "chrome_option.add_argument(\"--disable-notifications\")\n",
    "# chrome_option.add_argument('--headless')\n",
    "chrome_option.add_argument(\"--incognito\")\n",
    "chrome_option.add_argument(\"--start-maximized\")\n",
    "\n",
    "#%%%%%%%%%%%%%%%%%%%%%%%%%%%%%%%%%initiate to open browser%%%%%%%%%%%%%%%%%%%%%%%%%%%%%%%%%\n",
    "connection_attempt=0\n",
    "while True:\n",
    "    connection=0\n",
    "    connection_attempt=connection_attempt+1\n",
    "    try:\n",
    "        driver = webdriver.Chrome(executable_path= driver_path,chrome_options=chrome_option)\n",
    "        driver.maximize_window()\n",
    "        br=1\n",
    "        connection=1\n",
    "        print(\"\\n Connection successfull\")\n",
    "    except Exception as e:\n",
    "        print(e)\n",
    "        driver_path=input()\n",
    "        \n",
    "    if connection==1 or connection_attempt > 5:\n",
    "        break\n",
    "\n",
    "        \n",
    "        \n",
    "#%%%%%%%%%%%%%%%%%%%%%%%%%%%%%%%%%quera url supplied to browser%%%%%%%%%%%%%%%%%%%%%%%%%%%%%%%%%\n",
    "print(\"\\n Started the launch\")\n",
    "driver.get(\"https://www.quora.com/\")\n",
    "driver.implicitly_wait(10)\n",
    "time.sleep(random.randint(3,10))\n",
    "print(\"\\n Launched\")\n",
    "\n",
    "\n",
    "#%%%%%%%%%%%%%%%%%%%%%%%%%%%%%%%%%%login with credentials %%%%%%%%%%%%%%%%%%%%%%%%%%%%%%%%%\n",
    "\n",
    "attempt=0\n",
    "user=\"qasun06@gmail.com\"\n",
    "pas=\"P@SSw0rd!\"\n",
    "\n",
    "timeout=50\n",
    "\n",
    "try:\n",
    "    myElem = WebDriverWait(driver, timeout).until(EC.presence_of_element_located((By.ID, 'email')))\n",
    "    driver.find_element_by_id(\"email\").send_keys(user)\n",
    "    time.sleep(random.randint(3,6))\n",
    "    print (\"\\n Emial issued\")\n",
    "    attempt=attempt+1\n",
    "except Exception as e:\n",
    "    print (\"\\n Email--not--accessed\",e)\n",
    "\n",
    "\n",
    "try:\n",
    "    myElem = WebDriverWait(driver, timeout).until(EC.presence_of_element_located((By.ID, 'password')))\n",
    "    driver.find_element_by_id(\"password\").send_keys(pas)\n",
    "    time.sleep(random.randint(3,6))\n",
    "    print (\"\\n Password issued\")\n",
    "    attempt=attempt+1\n",
    "except Exception as e:\n",
    "    print (\"\\n Password--not--accessed\",e)\n",
    "\n",
    "\n",
    "time.sleep(random.randint(3,6))\n",
    "try:\n",
    "    myElem = WebDriverWait(driver, timeout).until(EC.presence_of_element_located((By.CLASS_NAME, 'qu-color--white')))\n",
    "    driver.find_element_by_class_name(\"qu-color--white\").click()\n",
    "    time.sleep(random.randint(1,3))\n",
    "    print (\"\\n Credentials Submitted\")\n",
    "    attempt=attempt+1\n",
    "except Exception as e:\n",
    "    print (\"\\n Credentials--not--Submitted\",e)\n",
    "    \n"
   ]
  },
  {
   "cell_type": "code",
   "execution_count": null,
   "metadata": {},
   "outputs": [],
   "source": [
    "search=[\"cricketors\",\"actors\",\"politics\"]"
   ]
  },
  {
   "cell_type": "code",
   "execution_count": 8,
   "metadata": {},
   "outputs": [
    {
     "name": "stdout",
     "output_type": "stream",
     "text": [
      "done\n"
     ]
    }
   ],
   "source": [
    "timeout = 5 # Logged in So now it checks for home screen loaded or not  %%%%%%%%%%%%%%%%%%%%%%%%%%%%%%%%%\n",
    "try:\n",
    "    #myElem = WebDriverWait(driver, timeout).until(EC.presence_of_element_located((By.ID, 'small_close')))\n",
    "    myElem = WebDriverWait(driver, timeout).until(EC.presence_of_element_located((By.CLASS_NAME, 'q-platform--desktop')))\n",
    "    try:\n",
    "        myElem = WebDriverWait(driver, timeout).until(EC.presence_of_element_located((By.ID, 'small_close')))\n",
    "        try:\n",
    "            myElem = WebDriverWait(driver, timeout).until(EC.presence_of_element_located((By.XPATH, '//*[text()=\"What is your question or link?\"]')))\n",
    "            print(\"done\")\n",
    "        except Exception as e:\n",
    "            print(\"\\n home_load Error due  to : )))))= \",e)\n",
    "    except Exception as e:\n",
    "        print(\"\\n home_load Error due to : )))))= \",e)\n",
    "except Exception as e:\n",
    "    print(\"\\n home_load Error due to : )))))= \",e)"
   ]
  },
  {
   "cell_type": "code",
   "execution_count": null,
   "metadata": {},
   "outputs": [],
   "source": []
  }
 ],
 "metadata": {
  "kernelspec": {
   "display_name": "Python 3",
   "language": "python",
   "name": "python3"
  },
  "language_info": {
   "codemirror_mode": {
    "name": "ipython",
    "version": 3
   },
   "file_extension": ".py",
   "mimetype": "text/x-python",
   "name": "python",
   "nbconvert_exporter": "python",
   "pygments_lexer": "ipython3",
   "version": "3.7.4"
  }
 },
 "nbformat": 4,
 "nbformat_minor": 2
}
